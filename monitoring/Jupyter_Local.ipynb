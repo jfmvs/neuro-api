{
 "cells": [
  {
   "cell_type": "markdown",
   "id": "4331dd51",
   "metadata": {},
   "source": [
    "### Performance e Volumetria"
   ]
  },
  {
   "cell_type": "code",
   "execution_count": 71,
   "id": "29ac811b",
   "metadata": {},
   "outputs": [
    {
     "name": "stdout",
     "output_type": "stream",
     "text": [
      "{'volumes': {'7': 74, '8': 72, '5': 67, '6': 63, '3': 62, '1': 58, '2': 55, '4': 49}, 'roc_auc': 0.5751748251748252}\n"
     ]
    }
   ],
   "source": [
    "import requests\n",
    "import json\n",
    "with open(\"batch_records.json\", 'r') as f:\n",
    "    json_string = f.read()\n",
    "\n",
    "url = \"http://127.0.0.1:8000/v1/\"\n",
    "\n",
    "dados = json.loads(json_string)\n",
    "response = requests.post(url+'performance', json=dados)\n",
    "\n",
    "print(response.json())"
   ]
  },
  {
   "cell_type": "markdown",
   "id": "b7752474",
   "metadata": {},
   "source": [
    "### Aderencia"
   ]
  },
  {
   "cell_type": "code",
   "execution_count": 78,
   "id": "409fc81a",
   "metadata": {},
   "outputs": [
    {
     "name": "stdout",
     "output_type": "stream",
     "text": [
      "<Response [422]>\n"
     ]
    }
   ],
   "source": [
    "path_1 = \"C:/Users/JoaoFelipeMoraisVasc/Documents/challenge-data-scientist/datasets/credit_01/train.gz\"\n",
    "\n",
    "# Infelizmente não consegui rodar no notebook, mas no localhost funciona\n",
    "response_1 = requests.post(url+'aderencia', data=path_1)\n",
    "print(response_1)"
   ]
  }
 ],
 "metadata": {
  "kernelspec": {
   "display_name": "Python 3 (ipykernel)",
   "language": "python",
   "name": "python3"
  },
  "language_info": {
   "codemirror_mode": {
    "name": "ipython",
    "version": 3
   },
   "file_extension": ".py",
   "mimetype": "text/x-python",
   "name": "python",
   "nbconvert_exporter": "python",
   "pygments_lexer": "ipython3",
   "version": "3.9.16"
  }
 },
 "nbformat": 4,
 "nbformat_minor": 5
}

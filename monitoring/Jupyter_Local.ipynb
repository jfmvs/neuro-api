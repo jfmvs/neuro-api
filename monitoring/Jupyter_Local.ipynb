{
 "cells": [
  {
   "cell_type": "markdown",
   "id": "1209a8ab",
   "metadata": {},
   "source": [
    "### Performance e Volumetria"
   ]
  },
  {
   "cell_type": "code",
   "execution_count": 176,
   "id": "6127ef0b",
   "metadata": {},
   "outputs": [
    {
     "name": "stdout",
     "output_type": "stream",
     "text": [
      "{'volumes': {'7': 74, '8': 72, '5': 67, '6': 63, '3': 62, '1': 58, '2': 55, '4': 49}, 'roc_auc': 0.5751748251748252}\n"
     ]
    }
   ],
   "source": [
    "import requests\n",
    "import json\n",
    "with open(\"batch_records.json\", 'r') as f:\n",
    "    json_string = f.read()\n",
    "\n",
    "url = \"http://127.0.0.1:8000/v1/\"\n",
    "\n",
    "dados = json.loads(json_string)\n",
    "response = requests.post(url+'performance', json=dados)\n",
    "\n",
    "print(response.json())"
   ]
  },
  {
   "cell_type": "markdown",
   "id": "141e514e",
   "metadata": {},
   "source": [
    "### Aderencia"
   ]
  },
  {
   "cell_type": "code",
   "execution_count": 218,
   "id": "eab0e772",
   "metadata": {},
   "outputs": [
    {
     "name": "stdout",
     "output_type": "stream",
     "text": [
      "{'KS': 0.7918289500100382, 'p-value': 0.0}\n"
     ]
    }
   ],
   "source": [
    "path_1 = [\"C:/Users/JoaoFelipeMoraisVasc/Documents/challenge-data-scientist/datasets/credit_01/train.gz\"]\n",
    "\n",
    "response_1 = requests.post(url+'aderencia', json=path_1)\n",
    "print(response_1.json())"
   ]
  },
  {
   "cell_type": "code",
   "execution_count": 223,
   "id": "0360e0f7",
   "metadata": {},
   "outputs": [
    {
     "name": "stdout",
     "output_type": "stream",
     "text": [
      "{'KS': 0.7918289500100382, 'p-value': 0.0}\n"
     ]
    }
   ],
   "source": [
    "path_2 = [\"C:/Users/JoaoFelipeMoraisVasc/Documents/challenge-data-scientist/datasets/credit_01/oot.gz\"]\n",
    "\n",
    "response_2 = requests.post(url+'aderencia', json=path_2)\n",
    "print(response_2.json())"
   ]
  }
 ],
 "metadata": {
  "kernelspec": {
   "display_name": "Python 3 (ipykernel)",
   "language": "python",
   "name": "python3"
  },
  "language_info": {
   "codemirror_mode": {
    "name": "ipython",
    "version": 3
   },
   "file_extension": ".py",
   "mimetype": "text/x-python",
   "name": "python",
   "nbconvert_exporter": "python",
   "pygments_lexer": "ipython3",
   "version": "3.9.16"
  }
 },
 "nbformat": 4,
 "nbformat_minor": 5
}
